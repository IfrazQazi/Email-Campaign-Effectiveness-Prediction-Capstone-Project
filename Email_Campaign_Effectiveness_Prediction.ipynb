{
  "nbformat": 4,
  "nbformat_minor": 0,
  "metadata": {
    "colab": {
      "name": "Email Campaign Effectiveness Prediction.ipynb",
      "provenance": [],
      "collapsed_sections": [],
      "authorship_tag": "ABX9TyPBacSUSo8/8uPgvTlYhSWt",
      "include_colab_link": true
    },
    "kernelspec": {
      "name": "python3",
      "display_name": "Python 3"
    },
    "language_info": {
      "name": "python"
    }
  },
  "cells": [
    {
      "cell_type": "markdown",
      "metadata": {
        "id": "view-in-github",
        "colab_type": "text"
      },
      "source": [
        "<a href=\"https://colab.research.google.com/github/IfrazQazi/Email-Campaign-Effectiveness-Prediction-Capstone-Project/blob/main/Email_Campaign_Effectiveness_Prediction.ipynb\" target=\"_parent\"><img src=\"https://colab.research.google.com/assets/colab-badge.svg\" alt=\"Open In Colab\"/></a>"
      ]
    },
    {
      "cell_type": "markdown",
      "source": [
        "#**Email Campaign Effectiveness Prediction**"
      ],
      "metadata": {
        "id": "UjQkp7KZeQ0f"
      }
    },
    {
      "cell_type": "markdown",
      "source": [
        "#**Problem Statement**\n",
        "##Most of the small to medium business owners are making effective use of Gmail-based Email marketing Strategies for offline targeting of converting their prospective customers into leads so that they stay with them in Business. The main objective is to create a machine learning model to characterize the mail and track the mail that is ignored; read; acknowledged by the reader."
      ],
      "metadata": {
        "id": "y5U-O_EBbSdz"
      }
    },
    {
      "cell_type": "code",
      "source": [
        "#importing library\n",
        "import pandas as pd \n",
        "import numpy as np\n",
        "import matplotlib.pyplot  as plt\n",
        "import seaborn as sns\n",
        "import plotly.express as px\n",
        "import plotly.graph_objects as go\n",
        "from plotly.subplots import make_subplots\n",
        "import scipy.stats as stat\n",
        "import pylab\n",
        "import missingno as mno\n",
        "\n",
        "\n",
        "%matplotlib inline "
      ],
      "metadata": {
        "id": "NkqHcTbDc2xx"
      },
      "execution_count": 95,
      "outputs": []
    },
    {
      "cell_type": "code",
      "source": [
        "import warnings\n",
        "warnings.filterwarnings(\"ignore\")"
      ],
      "metadata": {
        "id": "5HvMLt9Sdk7g"
      },
      "execution_count": 96,
      "outputs": []
    },
    {
      "cell_type": "code",
      "source": [
        "from google.colab import drive\n",
        "drive.mount('/content/drive')"
      ],
      "metadata": {
        "colab": {
          "base_uri": "https://localhost:8080/"
        },
        "id": "6uyXeWmBb7Hl",
        "outputId": "ba00ac1b-789a-4b51-ec0f-f4d94ce06f7a"
      },
      "execution_count": 97,
      "outputs": [
        {
          "output_type": "stream",
          "name": "stdout",
          "text": [
            "Drive already mounted at /content/drive; to attempt to forcibly remount, call drive.mount(\"/content/drive\", force_remount=True).\n"
          ]
        }
      ]
    },
    {
      "cell_type": "code",
      "source": [
        "email_df=pd.read_csv('/content/drive/MyDrive/AlmaBetter/Email campaign Effectiveness/data_email_campaign.csv')"
      ],
      "metadata": {
        "id": "C4WmdC2Gcgqp"
      },
      "execution_count": 98,
      "outputs": []
    },
    {
      "cell_type": "code",
      "source": [
        "# head of dataframe\n",
        "email_df.head()"
      ],
      "metadata": {
        "colab": {
          "base_uri": "https://localhost:8080/",
          "height": 270
        },
        "id": "Ect85138dbCL",
        "outputId": "8c5d3bcf-3faf-4d70-d889-45d3857d37dc"
      },
      "execution_count": 99,
      "outputs": [
        {
          "output_type": "execute_result",
          "data": {
            "text/html": [
              "\n",
              "  <div id=\"df-939510d6-f654-481b-826b-ba2b515f85d5\">\n",
              "    <div class=\"colab-df-container\">\n",
              "      <div>\n",
              "<style scoped>\n",
              "    .dataframe tbody tr th:only-of-type {\n",
              "        vertical-align: middle;\n",
              "    }\n",
              "\n",
              "    .dataframe tbody tr th {\n",
              "        vertical-align: top;\n",
              "    }\n",
              "\n",
              "    .dataframe thead th {\n",
              "        text-align: right;\n",
              "    }\n",
              "</style>\n",
              "<table border=\"1\" class=\"dataframe\">\n",
              "  <thead>\n",
              "    <tr style=\"text-align: right;\">\n",
              "      <th></th>\n",
              "      <th>Email_ID</th>\n",
              "      <th>Email_Type</th>\n",
              "      <th>Subject_Hotness_Score</th>\n",
              "      <th>Email_Source_Type</th>\n",
              "      <th>Customer_Location</th>\n",
              "      <th>Email_Campaign_Type</th>\n",
              "      <th>Total_Past_Communications</th>\n",
              "      <th>Time_Email_sent_Category</th>\n",
              "      <th>Word_Count</th>\n",
              "      <th>Total_Links</th>\n",
              "      <th>Total_Images</th>\n",
              "      <th>Email_Status</th>\n",
              "    </tr>\n",
              "  </thead>\n",
              "  <tbody>\n",
              "    <tr>\n",
              "      <th>0</th>\n",
              "      <td>EMA00081000034500</td>\n",
              "      <td>1</td>\n",
              "      <td>2.2</td>\n",
              "      <td>2</td>\n",
              "      <td>E</td>\n",
              "      <td>2</td>\n",
              "      <td>33.0</td>\n",
              "      <td>1</td>\n",
              "      <td>440</td>\n",
              "      <td>8.0</td>\n",
              "      <td>0.0</td>\n",
              "      <td>0</td>\n",
              "    </tr>\n",
              "    <tr>\n",
              "      <th>1</th>\n",
              "      <td>EMA00081000045360</td>\n",
              "      <td>2</td>\n",
              "      <td>2.1</td>\n",
              "      <td>1</td>\n",
              "      <td>NaN</td>\n",
              "      <td>2</td>\n",
              "      <td>15.0</td>\n",
              "      <td>2</td>\n",
              "      <td>504</td>\n",
              "      <td>5.0</td>\n",
              "      <td>0.0</td>\n",
              "      <td>0</td>\n",
              "    </tr>\n",
              "    <tr>\n",
              "      <th>2</th>\n",
              "      <td>EMA00081000066290</td>\n",
              "      <td>2</td>\n",
              "      <td>0.1</td>\n",
              "      <td>1</td>\n",
              "      <td>B</td>\n",
              "      <td>3</td>\n",
              "      <td>36.0</td>\n",
              "      <td>2</td>\n",
              "      <td>962</td>\n",
              "      <td>5.0</td>\n",
              "      <td>0.0</td>\n",
              "      <td>1</td>\n",
              "    </tr>\n",
              "    <tr>\n",
              "      <th>3</th>\n",
              "      <td>EMA00081000076560</td>\n",
              "      <td>1</td>\n",
              "      <td>3.0</td>\n",
              "      <td>2</td>\n",
              "      <td>E</td>\n",
              "      <td>2</td>\n",
              "      <td>25.0</td>\n",
              "      <td>2</td>\n",
              "      <td>610</td>\n",
              "      <td>16.0</td>\n",
              "      <td>0.0</td>\n",
              "      <td>0</td>\n",
              "    </tr>\n",
              "    <tr>\n",
              "      <th>4</th>\n",
              "      <td>EMA00081000109720</td>\n",
              "      <td>1</td>\n",
              "      <td>0.0</td>\n",
              "      <td>2</td>\n",
              "      <td>C</td>\n",
              "      <td>3</td>\n",
              "      <td>18.0</td>\n",
              "      <td>2</td>\n",
              "      <td>947</td>\n",
              "      <td>4.0</td>\n",
              "      <td>0.0</td>\n",
              "      <td>0</td>\n",
              "    </tr>\n",
              "  </tbody>\n",
              "</table>\n",
              "</div>\n",
              "      <button class=\"colab-df-convert\" onclick=\"convertToInteractive('df-939510d6-f654-481b-826b-ba2b515f85d5')\"\n",
              "              title=\"Convert this dataframe to an interactive table.\"\n",
              "              style=\"display:none;\">\n",
              "        \n",
              "  <svg xmlns=\"http://www.w3.org/2000/svg\" height=\"24px\"viewBox=\"0 0 24 24\"\n",
              "       width=\"24px\">\n",
              "    <path d=\"M0 0h24v24H0V0z\" fill=\"none\"/>\n",
              "    <path d=\"M18.56 5.44l.94 2.06.94-2.06 2.06-.94-2.06-.94-.94-2.06-.94 2.06-2.06.94zm-11 1L8.5 8.5l.94-2.06 2.06-.94-2.06-.94L8.5 2.5l-.94 2.06-2.06.94zm10 10l.94 2.06.94-2.06 2.06-.94-2.06-.94-.94-2.06-.94 2.06-2.06.94z\"/><path d=\"M17.41 7.96l-1.37-1.37c-.4-.4-.92-.59-1.43-.59-.52 0-1.04.2-1.43.59L10.3 9.45l-7.72 7.72c-.78.78-.78 2.05 0 2.83L4 21.41c.39.39.9.59 1.41.59.51 0 1.02-.2 1.41-.59l7.78-7.78 2.81-2.81c.8-.78.8-2.07 0-2.86zM5.41 20L4 18.59l7.72-7.72 1.47 1.35L5.41 20z\"/>\n",
              "  </svg>\n",
              "      </button>\n",
              "      \n",
              "  <style>\n",
              "    .colab-df-container {\n",
              "      display:flex;\n",
              "      flex-wrap:wrap;\n",
              "      gap: 12px;\n",
              "    }\n",
              "\n",
              "    .colab-df-convert {\n",
              "      background-color: #E8F0FE;\n",
              "      border: none;\n",
              "      border-radius: 50%;\n",
              "      cursor: pointer;\n",
              "      display: none;\n",
              "      fill: #1967D2;\n",
              "      height: 32px;\n",
              "      padding: 0 0 0 0;\n",
              "      width: 32px;\n",
              "    }\n",
              "\n",
              "    .colab-df-convert:hover {\n",
              "      background-color: #E2EBFA;\n",
              "      box-shadow: 0px 1px 2px rgba(60, 64, 67, 0.3), 0px 1px 3px 1px rgba(60, 64, 67, 0.15);\n",
              "      fill: #174EA6;\n",
              "    }\n",
              "\n",
              "    [theme=dark] .colab-df-convert {\n",
              "      background-color: #3B4455;\n",
              "      fill: #D2E3FC;\n",
              "    }\n",
              "\n",
              "    [theme=dark] .colab-df-convert:hover {\n",
              "      background-color: #434B5C;\n",
              "      box-shadow: 0px 1px 3px 1px rgba(0, 0, 0, 0.15);\n",
              "      filter: drop-shadow(0px 1px 2px rgba(0, 0, 0, 0.3));\n",
              "      fill: #FFFFFF;\n",
              "    }\n",
              "  </style>\n",
              "\n",
              "      <script>\n",
              "        const buttonEl =\n",
              "          document.querySelector('#df-939510d6-f654-481b-826b-ba2b515f85d5 button.colab-df-convert');\n",
              "        buttonEl.style.display =\n",
              "          google.colab.kernel.accessAllowed ? 'block' : 'none';\n",
              "\n",
              "        async function convertToInteractive(key) {\n",
              "          const element = document.querySelector('#df-939510d6-f654-481b-826b-ba2b515f85d5');\n",
              "          const dataTable =\n",
              "            await google.colab.kernel.invokeFunction('convertToInteractive',\n",
              "                                                     [key], {});\n",
              "          if (!dataTable) return;\n",
              "\n",
              "          const docLinkHtml = 'Like what you see? Visit the ' +\n",
              "            '<a target=\"_blank\" href=https://colab.research.google.com/notebooks/data_table.ipynb>data table notebook</a>'\n",
              "            + ' to learn more about interactive tables.';\n",
              "          element.innerHTML = '';\n",
              "          dataTable['output_type'] = 'display_data';\n",
              "          await google.colab.output.renderOutput(dataTable, element);\n",
              "          const docLink = document.createElement('div');\n",
              "          docLink.innerHTML = docLinkHtml;\n",
              "          element.appendChild(docLink);\n",
              "        }\n",
              "      </script>\n",
              "    </div>\n",
              "  </div>\n",
              "  "
            ],
            "text/plain": [
              "            Email_ID  Email_Type  ...  Total_Images  Email_Status\n",
              "0  EMA00081000034500           1  ...           0.0             0\n",
              "1  EMA00081000045360           2  ...           0.0             0\n",
              "2  EMA00081000066290           2  ...           0.0             1\n",
              "3  EMA00081000076560           1  ...           0.0             0\n",
              "4  EMA00081000109720           1  ...           0.0             0\n",
              "\n",
              "[5 rows x 12 columns]"
            ]
          },
          "metadata": {},
          "execution_count": 99
        }
      ]
    },
    {
      "cell_type": "code",
      "source": [
        "email_df.tail()"
      ],
      "metadata": {
        "colab": {
          "base_uri": "https://localhost:8080/",
          "height": 270
        },
        "id": "2xjMlcWMeBij",
        "outputId": "40bad681-c5d5-4bd0-bd05-77d931b7bec5"
      },
      "execution_count": 100,
      "outputs": [
        {
          "output_type": "execute_result",
          "data": {
            "text/html": [
              "\n",
              "  <div id=\"df-79e4b39b-0446-4b4b-829e-6224e2e5329b\">\n",
              "    <div class=\"colab-df-container\">\n",
              "      <div>\n",
              "<style scoped>\n",
              "    .dataframe tbody tr th:only-of-type {\n",
              "        vertical-align: middle;\n",
              "    }\n",
              "\n",
              "    .dataframe tbody tr th {\n",
              "        vertical-align: top;\n",
              "    }\n",
              "\n",
              "    .dataframe thead th {\n",
              "        text-align: right;\n",
              "    }\n",
              "</style>\n",
              "<table border=\"1\" class=\"dataframe\">\n",
              "  <thead>\n",
              "    <tr style=\"text-align: right;\">\n",
              "      <th></th>\n",
              "      <th>Email_ID</th>\n",
              "      <th>Email_Type</th>\n",
              "      <th>Subject_Hotness_Score</th>\n",
              "      <th>Email_Source_Type</th>\n",
              "      <th>Customer_Location</th>\n",
              "      <th>Email_Campaign_Type</th>\n",
              "      <th>Total_Past_Communications</th>\n",
              "      <th>Time_Email_sent_Category</th>\n",
              "      <th>Word_Count</th>\n",
              "      <th>Total_Links</th>\n",
              "      <th>Total_Images</th>\n",
              "      <th>Email_Status</th>\n",
              "    </tr>\n",
              "  </thead>\n",
              "  <tbody>\n",
              "    <tr>\n",
              "      <th>68348</th>\n",
              "      <td>EMA00089995974500</td>\n",
              "      <td>2</td>\n",
              "      <td>0.4</td>\n",
              "      <td>1</td>\n",
              "      <td>F</td>\n",
              "      <td>2</td>\n",
              "      <td>22.0</td>\n",
              "      <td>3</td>\n",
              "      <td>737</td>\n",
              "      <td>16.0</td>\n",
              "      <td>13.0</td>\n",
              "      <td>0</td>\n",
              "    </tr>\n",
              "    <tr>\n",
              "      <th>68349</th>\n",
              "      <td>EMA00089998225300</td>\n",
              "      <td>1</td>\n",
              "      <td>1.3</td>\n",
              "      <td>1</td>\n",
              "      <td>C</td>\n",
              "      <td>2</td>\n",
              "      <td>40.0</td>\n",
              "      <td>2</td>\n",
              "      <td>653</td>\n",
              "      <td>31.0</td>\n",
              "      <td>16.0</td>\n",
              "      <td>0</td>\n",
              "    </tr>\n",
              "    <tr>\n",
              "      <th>68350</th>\n",
              "      <td>EMA00089998436500</td>\n",
              "      <td>1</td>\n",
              "      <td>2.2</td>\n",
              "      <td>2</td>\n",
              "      <td>NaN</td>\n",
              "      <td>2</td>\n",
              "      <td>33.0</td>\n",
              "      <td>2</td>\n",
              "      <td>490</td>\n",
              "      <td>9.0</td>\n",
              "      <td>0.0</td>\n",
              "      <td>0</td>\n",
              "    </tr>\n",
              "    <tr>\n",
              "      <th>68351</th>\n",
              "      <td>EMA00089999168800</td>\n",
              "      <td>1</td>\n",
              "      <td>0.4</td>\n",
              "      <td>1</td>\n",
              "      <td>E</td>\n",
              "      <td>2</td>\n",
              "      <td>50.0</td>\n",
              "      <td>1</td>\n",
              "      <td>733</td>\n",
              "      <td>14.0</td>\n",
              "      <td>4.0</td>\n",
              "      <td>0</td>\n",
              "    </tr>\n",
              "    <tr>\n",
              "      <th>68352</th>\n",
              "      <td>EMA00089999316900</td>\n",
              "      <td>1</td>\n",
              "      <td>1.5</td>\n",
              "      <td>1</td>\n",
              "      <td>G</td>\n",
              "      <td>2</td>\n",
              "      <td>20.0</td>\n",
              "      <td>2</td>\n",
              "      <td>1038</td>\n",
              "      <td>6.0</td>\n",
              "      <td>0.0</td>\n",
              "      <td>0</td>\n",
              "    </tr>\n",
              "  </tbody>\n",
              "</table>\n",
              "</div>\n",
              "      <button class=\"colab-df-convert\" onclick=\"convertToInteractive('df-79e4b39b-0446-4b4b-829e-6224e2e5329b')\"\n",
              "              title=\"Convert this dataframe to an interactive table.\"\n",
              "              style=\"display:none;\">\n",
              "        \n",
              "  <svg xmlns=\"http://www.w3.org/2000/svg\" height=\"24px\"viewBox=\"0 0 24 24\"\n",
              "       width=\"24px\">\n",
              "    <path d=\"M0 0h24v24H0V0z\" fill=\"none\"/>\n",
              "    <path d=\"M18.56 5.44l.94 2.06.94-2.06 2.06-.94-2.06-.94-.94-2.06-.94 2.06-2.06.94zm-11 1L8.5 8.5l.94-2.06 2.06-.94-2.06-.94L8.5 2.5l-.94 2.06-2.06.94zm10 10l.94 2.06.94-2.06 2.06-.94-2.06-.94-.94-2.06-.94 2.06-2.06.94z\"/><path d=\"M17.41 7.96l-1.37-1.37c-.4-.4-.92-.59-1.43-.59-.52 0-1.04.2-1.43.59L10.3 9.45l-7.72 7.72c-.78.78-.78 2.05 0 2.83L4 21.41c.39.39.9.59 1.41.59.51 0 1.02-.2 1.41-.59l7.78-7.78 2.81-2.81c.8-.78.8-2.07 0-2.86zM5.41 20L4 18.59l7.72-7.72 1.47 1.35L5.41 20z\"/>\n",
              "  </svg>\n",
              "      </button>\n",
              "      \n",
              "  <style>\n",
              "    .colab-df-container {\n",
              "      display:flex;\n",
              "      flex-wrap:wrap;\n",
              "      gap: 12px;\n",
              "    }\n",
              "\n",
              "    .colab-df-convert {\n",
              "      background-color: #E8F0FE;\n",
              "      border: none;\n",
              "      border-radius: 50%;\n",
              "      cursor: pointer;\n",
              "      display: none;\n",
              "      fill: #1967D2;\n",
              "      height: 32px;\n",
              "      padding: 0 0 0 0;\n",
              "      width: 32px;\n",
              "    }\n",
              "\n",
              "    .colab-df-convert:hover {\n",
              "      background-color: #E2EBFA;\n",
              "      box-shadow: 0px 1px 2px rgba(60, 64, 67, 0.3), 0px 1px 3px 1px rgba(60, 64, 67, 0.15);\n",
              "      fill: #174EA6;\n",
              "    }\n",
              "\n",
              "    [theme=dark] .colab-df-convert {\n",
              "      background-color: #3B4455;\n",
              "      fill: #D2E3FC;\n",
              "    }\n",
              "\n",
              "    [theme=dark] .colab-df-convert:hover {\n",
              "      background-color: #434B5C;\n",
              "      box-shadow: 0px 1px 3px 1px rgba(0, 0, 0, 0.15);\n",
              "      filter: drop-shadow(0px 1px 2px rgba(0, 0, 0, 0.3));\n",
              "      fill: #FFFFFF;\n",
              "    }\n",
              "  </style>\n",
              "\n",
              "      <script>\n",
              "        const buttonEl =\n",
              "          document.querySelector('#df-79e4b39b-0446-4b4b-829e-6224e2e5329b button.colab-df-convert');\n",
              "        buttonEl.style.display =\n",
              "          google.colab.kernel.accessAllowed ? 'block' : 'none';\n",
              "\n",
              "        async function convertToInteractive(key) {\n",
              "          const element = document.querySelector('#df-79e4b39b-0446-4b4b-829e-6224e2e5329b');\n",
              "          const dataTable =\n",
              "            await google.colab.kernel.invokeFunction('convertToInteractive',\n",
              "                                                     [key], {});\n",
              "          if (!dataTable) return;\n",
              "\n",
              "          const docLinkHtml = 'Like what you see? Visit the ' +\n",
              "            '<a target=\"_blank\" href=https://colab.research.google.com/notebooks/data_table.ipynb>data table notebook</a>'\n",
              "            + ' to learn more about interactive tables.';\n",
              "          element.innerHTML = '';\n",
              "          dataTable['output_type'] = 'display_data';\n",
              "          await google.colab.output.renderOutput(dataTable, element);\n",
              "          const docLink = document.createElement('div');\n",
              "          docLink.innerHTML = docLinkHtml;\n",
              "          element.appendChild(docLink);\n",
              "        }\n",
              "      </script>\n",
              "    </div>\n",
              "  </div>\n",
              "  "
            ],
            "text/plain": [
              "                Email_ID  Email_Type  ...  Total_Images  Email_Status\n",
              "68348  EMA00089995974500           2  ...          13.0             0\n",
              "68349  EMA00089998225300           1  ...          16.0             0\n",
              "68350  EMA00089998436500           1  ...           0.0             0\n",
              "68351  EMA00089999168800           1  ...           4.0             0\n",
              "68352  EMA00089999316900           1  ...           0.0             0\n",
              "\n",
              "[5 rows x 12 columns]"
            ]
          },
          "metadata": {},
          "execution_count": 100
        }
      ]
    },
    {
      "cell_type": "markdown",
      "source": [
        "#**The data has the following features:**\n",
        "##**Email_ID** - This column contains the email ids of individuals.\n",
        "\n",
        "##**Email_type** - Email type contains 2 categories 1 and 2. We can assume that the types are like promotional email or sales email.\n",
        "\n",
        "##**Subject_Hotness_Score** - It is the subject-line effectiveness score.\n",
        "\n",
        "##**Email_Source** - It represents the source of the email like sales,marketing or product type email.\n",
        "\n",
        "##**Email_Campaign_Type** - Campaign type\n",
        "\n",
        "##**Total_Past_Communications** - This column contains the previous mails from the source.\n",
        "\n",
        "##**Customer_Location** - Categorical data which explains the different demographic location of the customers.\n",
        "\n",
        "##**Time_Email_sent_Category** - It has 3 categories: 1,2 and 3 which are considered as morning,evening and night time slot.\n",
        "\n",
        "##**Word_Count** - It contains the no.of words in the mail.\n",
        "\n",
        "##**Total_Links** - Total links in the email body.\n",
        "\n",
        "##**Total_Images** - The banner images in the email body.\n",
        "\n",
        "##**Email_Status** - It is the target variable which contains the characterization of the mail that is ignored; read; acknowledged by the reader."
      ],
      "metadata": {
        "id": "ghsn6Z0cQjuD"
      }
    },
    {
      "cell_type": "code",
      "source": [
        "email_df.shape"
      ],
      "metadata": {
        "colab": {
          "base_uri": "https://localhost:8080/"
        },
        "id": "dbN4pl06TGw4",
        "outputId": "8e29bd76-99e6-4a5c-a6dc-8aa56d498d4c"
      },
      "execution_count": 101,
      "outputs": [
        {
          "output_type": "execute_result",
          "data": {
            "text/plain": [
              "(68353, 12)"
            ]
          },
          "metadata": {},
          "execution_count": 101
        }
      ]
    },
    {
      "cell_type": "markdown",
      "source": [
        "## Here we can see that this data set is consist of 12 columns/features and 68353 rows/observation"
      ],
      "metadata": {
        "id": "Ck_FGYrXTLHv"
      }
    },
    {
      "cell_type": "code",
      "source": [
        "email_df.info()"
      ],
      "metadata": {
        "colab": {
          "base_uri": "https://localhost:8080/"
        },
        "id": "P_diwRdYEPBz",
        "outputId": "090ca808-6921-4c84-d2c0-5e413a7b96b2"
      },
      "execution_count": 102,
      "outputs": [
        {
          "output_type": "stream",
          "name": "stdout",
          "text": [
            "<class 'pandas.core.frame.DataFrame'>\n",
            "RangeIndex: 68353 entries, 0 to 68352\n",
            "Data columns (total 12 columns):\n",
            " #   Column                     Non-Null Count  Dtype  \n",
            "---  ------                     --------------  -----  \n",
            " 0   Email_ID                   68353 non-null  object \n",
            " 1   Email_Type                 68353 non-null  int64  \n",
            " 2   Subject_Hotness_Score      68353 non-null  float64\n",
            " 3   Email_Source_Type          68353 non-null  int64  \n",
            " 4   Customer_Location          56758 non-null  object \n",
            " 5   Email_Campaign_Type        68353 non-null  int64  \n",
            " 6   Total_Past_Communications  61528 non-null  float64\n",
            " 7   Time_Email_sent_Category   68353 non-null  int64  \n",
            " 8   Word_Count                 68353 non-null  int64  \n",
            " 9   Total_Links                66152 non-null  float64\n",
            " 10  Total_Images               66676 non-null  float64\n",
            " 11  Email_Status               68353 non-null  int64  \n",
            "dtypes: float64(4), int64(6), object(2)\n",
            "memory usage: 6.3+ MB\n"
          ]
        }
      ]
    },
    {
      "cell_type": "markdown",
      "source": [
        "## here we can see that in this data set there is 2 object data type columns and all other columns are numeric data type\n",
        "## and some column also contains null values"
      ],
      "metadata": {
        "id": "rxiPB6OKo12z"
      }
    },
    {
      "cell_type": "code",
      "source": [
        "# lets see Email_ID colum\n",
        "email_df['Email_ID'].count()"
      ],
      "metadata": {
        "colab": {
          "base_uri": "https://localhost:8080/"
        },
        "id": "k2ZN_oibEk-r",
        "outputId": "c58fae0d-cafd-4c8a-ebfb-e7d3b3069846"
      },
      "execution_count": 103,
      "outputs": [
        {
          "output_type": "execute_result",
          "data": {
            "text/plain": [
              "68353"
            ]
          },
          "metadata": {},
          "execution_count": 103
        }
      ]
    },
    {
      "cell_type": "markdown",
      "source": [
        "##here we can see that Email_ID feature is having 68353 unique values and number of observation is also 68353 so we can drop that feature from our data set"
      ],
      "metadata": {
        "id": "8mHTaE0lUifG"
      }
    },
    {
      "cell_type": "code",
      "source": [
        "email_df.isnull().any()"
      ],
      "metadata": {
        "colab": {
          "base_uri": "https://localhost:8080/"
        },
        "id": "x4ZleOIVp1R-",
        "outputId": "93448994-335a-4917-f98a-b9932ede9930"
      },
      "execution_count": 104,
      "outputs": [
        {
          "output_type": "execute_result",
          "data": {
            "text/plain": [
              "Email_ID                     False\n",
              "Email_Type                   False\n",
              "Subject_Hotness_Score        False\n",
              "Email_Source_Type            False\n",
              "Customer_Location             True\n",
              "Email_Campaign_Type          False\n",
              "Total_Past_Communications     True\n",
              "Time_Email_sent_Category     False\n",
              "Word_Count                   False\n",
              "Total_Links                   True\n",
              "Total_Images                  True\n",
              "Email_Status                 False\n",
              "dtype: bool"
            ]
          },
          "metadata": {},
          "execution_count": 104
        }
      ]
    },
    {
      "cell_type": "code",
      "source": [
        "# missing value\n",
        "mno.matrix(email_df, figsize = (20, 10))"
      ],
      "metadata": {
        "colab": {
          "base_uri": "https://localhost:8080/",
          "height": 778
        },
        "id": "5YRblRhlp8l6",
        "outputId": "8438e202-4289-4096-e087-2ae5a82babbc"
      },
      "execution_count": 105,
      "outputs": [
        {
          "output_type": "execute_result",
          "data": {
            "text/plain": [
              "<matplotlib.axes._subplots.AxesSubplot at 0x7f2a624c10d0>"
            ]
          },
          "metadata": {},
          "execution_count": 105
        },
        {
          "output_type": "display_data",
          "data": {
            "image/png": "[encoded data removed]",
            "text/plain": [
              "<Figure size 1440x720 with 2 Axes>"
            ]
          },
          "metadata": {
            "needs_background": "light"
          }
        }
      ]
    },
    {
      "cell_type": "code",
      "source": [
        "email_df.isnull().sum()"
      ],
      "metadata": {
        "colab": {
          "base_uri": "https://localhost:8080/"
        },
        "id": "tzd6BZ-bqeeM",
        "outputId": "902bd7d0-28c1-4827-9372-852b61b66874"
      },
      "execution_count": 106,
      "outputs": [
        {
          "output_type": "execute_result",
          "data": {
            "text/plain": [
              "Email_ID                         0\n",
              "Email_Type                       0\n",
              "Subject_Hotness_Score            0\n",
              "Email_Source_Type                0\n",
              "Customer_Location            11595\n",
              "Email_Campaign_Type              0\n",
              "Total_Past_Communications     6825\n",
              "Time_Email_sent_Category         0\n",
              "Word_Count                       0\n",
              "Total_Links                   2201\n",
              "Total_Images                  1677\n",
              "Email_Status                     0\n",
              "dtype: int64"
            ]
          },
          "metadata": {},
          "execution_count": 106
        }
      ]
    },
    {
      "cell_type": "markdown",
      "source": [
        "## We can see that 4 columns is having null\n",
        "## Customer_Location is having 11595 null values\n",
        "## Total_Past_Communications is having 6825 null values\n",
        "## Total_Links is having 2201 null values\n",
        "## Total_Images is having 1677 null values\n",
        "##But particularly customer location has a lot of them. Since it is a categorical column and it is difficult to just impute them with our understanding of where the customer's location is, we'll see how much it affects our target variable, whether a particular location has anything to do with it or it is not correlated at all and accordingly we can decide on it later on. Let's fill up the null values in other columns. "
      ],
      "metadata": {
        "id": "Km0WDw_FqNre"
      }
    },
    {
      "cell_type": "code",
      "source": [
        "#let's see the distribution of Total Past Communications to get what majority of the data tends to so that we can fill it accordingly\n",
        "sns.distplot(x=email_df['Total_Past_Communications'], hist = True)"
      ],
      "metadata": {
        "colab": {
          "base_uri": "https://localhost:8080/",
          "height": 282
        },
        "id": "qWDaasarvHBe",
        "outputId": "749df6f6-04da-4486-c610-6ecae1657f4f"
      },
      "execution_count": 107,
      "outputs": [
        {
          "output_type": "execute_result",
          "data": {
            "text/plain": [
              "<matplotlib.axes._subplots.AxesSubplot at 0x7f2a62460610>"
            ]
          },
          "metadata": {},
          "execution_count": 107
        },
        {
          "output_type": "display_data",
          "data": {
            "image/png": "[encoded data removed]",
            "text/plain": [
              "<Figure size 432x288 with 1 Axes>"
            ]
          },
          "metadata": {
            "needs_background": "light"
          }
        }
      ]
    },
    {
      "cell_type": "markdown",
      "source": [
        "##We have kind of a normal ditribution for Total Past Communications and it will be fine, if we use mean to fill up the null values of this column."
      ],
      "metadata": {
        "id": "Zqt7UoQ6vUw3"
      }
    },
    {
      "cell_type": "code",
      "source": [
        "#filling up the null values for total past comm\n",
        "email_df['Total_Past_Communications'].fillna(email_df['Total_Past_Communications'].mean(), inplace = True)"
      ],
      "metadata": {
        "id": "2tYp-rsCvbnx"
      },
      "execution_count": 108,
      "outputs": []
    },
    {
      "cell_type": "markdown",
      "source": [
        "##Now lets find out which method we should use to fill missing values of Total_Links column"
      ],
      "metadata": {
        "id": "Y2t6JwjywqVw"
      }
    },
    {
      "cell_type": "code",
      "source": [
        "#let's see the distribution of Total Links to get what majority of the data tends to so that we can fill it accordingly\n",
        "sns.distplot(x=email_df['Total_Links'], hist= True)"
      ],
      "metadata": {
        "colab": {
          "base_uri": "https://localhost:8080/",
          "height": 282
        },
        "id": "yCpMf_XOwyki",
        "outputId": "2d21d199-07f0-4a6e-ddc6-a7b4b94e164b"
      },
      "execution_count": 109,
      "outputs": [
        {
          "output_type": "execute_result",
          "data": {
            "text/plain": [
              "<matplotlib.axes._subplots.AxesSubplot at 0x7f2a62453cd0>"
            ]
          },
          "metadata": {},
          "execution_count": 109
        },
        {
          "output_type": "display_data",
          "data": {
            "image/png": "[encoded data removed]",
            "text/plain": [
              "<Figure size 432x288 with 1 Axes>"
            ]
          },
          "metadata": {
            "needs_background": "light"
          }
        }
      ]
    },
    {
      "cell_type": "markdown",
      "source": [
        "##It seems like most of the values of the Total Links in the column are between 0-10 and the distribution is skewed on the right. Mode is more robust to outlier effect."
      ],
      "metadata": {
        "id": "qgsZgxT-xLs1"
      }
    },
    {
      "cell_type": "code",
      "source": [
        "#filling up the Total Links Column\n",
        "email_df['Total_Links'].fillna(email_df['Total_Links'].mode()[0], inplace = True)"
      ],
      "metadata": {
        "id": "9wMgJ16RxfkC"
      },
      "execution_count": 110,
      "outputs": []
    },
    {
      "cell_type": "markdown",
      "source": [
        "##Now lets find out which metrics we should use to fill missing values of Total_Images column"
      ],
      "metadata": {
        "id": "GHm8vXaYxPtD"
      }
    },
    {
      "cell_type": "code",
      "source": [
        "sns.distplot(email_df.Total_Images)"
      ],
      "metadata": {
        "colab": {
          "base_uri": "https://localhost:8080/",
          "height": 298
        },
        "id": "l5_LEeDPxJ4P",
        "outputId": "f9fb11c7-9e06-4109-8ccd-608ba71670cb"
      },
      "execution_count": 111,
      "outputs": [
        {
          "output_type": "execute_result",
          "data": {
            "text/plain": [
              "<matplotlib.axes._subplots.AxesSubplot at 0x7f2a622ae850>"
            ]
          },
          "metadata": {},
          "execution_count": 111
        },
        {
          "output_type": "display_data",
          "data": {
            "image/png": "[encoded data removed]",
            "text/plain": [
              "<Figure size 432x288 with 1 Axes>"
            ]
          },
          "metadata": {
            "needs_background": "light"
          }
        }
      ]
    },
    {
      "cell_type": "markdown",
      "source": [
        "##The number of images in most of the emails seems to be 0 or fewer than 3-4. It would be wise to fill the null values with mode values."
      ],
      "metadata": {
        "id": "i91jU5nsx2Og"
      }
    },
    {
      "cell_type": "code",
      "source": [
        "#filling up the Total Images Column\n",
        "email_df['Total_Images'].fillna(email_df['Total_Images'].mode()[0], inplace = True)"
      ],
      "metadata": {
        "id": "7qubEoBsyCc5"
      },
      "execution_count": 112,
      "outputs": []
    },
    {
      "cell_type": "code",
      "source": [
        "#check for duplicates\n",
        "email_df.duplicated().sum()"
      ],
      "metadata": {
        "colab": {
          "base_uri": "https://localhost:8080/"
        },
        "id": "G31rIZTBycSb",
        "outputId": "c7b4d812-bf54-4ecb-8c72-31b8e6b1a5ce"
      },
      "execution_count": 113,
      "outputs": [
        {
          "output_type": "execute_result",
          "data": {
            "text/plain": [
              "0"
            ]
          },
          "metadata": {},
          "execution_count": 113
        }
      ]
    },
    {
      "cell_type": "markdown",
      "source": [
        "##Hence, we can observe that there are no duplications of data."
      ],
      "metadata": {
        "id": "euio8bKMyj8Z"
      }
    },
    {
      "cell_type": "markdown",
      "source": [
        "##**Exploratory Data Analysis:**\n",
        "##Exploratory data analysis is an important part of data analysis. It involves exploring and analyzing the dataset given to find out patterns, trends and conclusions to take better decisions related to the data. In this section, we will be trying to obtain those features which help our emails not get ignored.\n",
        "\n",
        "##We will explore every feature against our target variable and analyze it's influence on it."
      ],
      "metadata": {
        "id": "OyyQ4iNMz43H"
      }
    },
    {
      "cell_type": "code",
      "source": [
        "email_df.columns"
      ],
      "metadata": {
        "colab": {
          "base_uri": "https://localhost:8080/"
        },
        "id": "JlWx059R0eTn",
        "outputId": "f1545a60-192b-47aa-cafb-35376106cea2"
      },
      "execution_count": 114,
      "outputs": [
        {
          "output_type": "execute_result",
          "data": {
            "text/plain": [
              "Index(['Email_ID', 'Email_Type', 'Subject_Hotness_Score', 'Email_Source_Type',\n",
              "       'Customer_Location', 'Email_Campaign_Type', 'Total_Past_Communications',\n",
              "       'Time_Email_sent_Category', 'Word_Count', 'Total_Links', 'Total_Images',\n",
              "       'Email_Status'],\n",
              "      dtype='object')"
            ]
          },
          "metadata": {},
          "execution_count": 114
        }
      ]
    },
    {
      "cell_type": "code",
      "source": [
        "\n",
        "categorical_variables = ['Email_Type','Email_Source_Type','Customer_Location','Email_Campaign_Type','Time_Email_sent_Category']\n",
        "Target_var = ['Email_Status']\n",
        "plt.figure(figsize=(10, 6))\n",
        "for i,value in enumerate(categorical_variables):\n",
        "  plt.figure(figsize=(10, 6))\n",
        "  ax = sns.countplot(x=email_df[value], hue=email_df[Target_var[0]])\n",
        "  unique = len([x for x in email_df[value].unique() if x==x])\n",
        "  bars = ax.patches\n",
        "  \n",
        "  for i in range(unique):\n",
        "      \n",
        "      catbars=bars[i:][::unique]\n",
        "      #get height\n",
        "      total = sum([x.get_height() for x in catbars])\n",
        "      #print percentage\n",
        "      for bar in catbars:\n",
        "        \n",
        "        ax.text(bar.get_x()+bar.get_width()/2.,\n",
        "                    bar.get_height(),\n",
        "                    f'{bar.get_height()/total:.0%}',\n",
        "                    ha=\"center\",va=\"bottom\")\n",
        "  \n",
        "  plt.show()\n"
      ],
      "metadata": {
        "colab": {
          "base_uri": "https://localhost:8080/",
          "height": 1000
        },
        "id": "BigkFAH20A3Q",
        "outputId": "684e106d-9731-4d95-87d9-e8a232818d68"
      },
      "execution_count": 115,
      "outputs": [
        {
          "output_type": "display_data",
          "data": {
            "text/plain": [
              "<Figure size 720x432 with 0 Axes>"
            ]
          },
          "metadata": {}
        },
        {
          "output_type": "display_data",
          "data": {
            "image/png": "[encoded data removed]",
            "text/plain": [
              "<Figure size 720x432 with 1 Axes>"
            ]
          },
          "metadata": {
            "needs_background": "light"
          }
        },
        {
          "output_type": "display_data",
          "data": {
            "image/png": "[encoded data removed]",
            "text/plain": [
              "<Figure size 720x432 with 1 Axes>"
            ]
          },
          "metadata": {
            "needs_background": "light"
          }
        },
        {
          "output_type": "display_data",
          "data": {
            "image/png": "[encoded data removed]",
            "text/plain": [
              "<Figure size 720x432 with 1 Axes>"
            ]
          },
          "metadata": {
            "needs_background": "light"
          }
        },
        {
          "output_type": "display_data",
          "data": {
            "image/png": "[encoded data removed]",
            "text/plain": [
              "<Figure size 720x432 with 1 Axes>"
            ]
          },
          "metadata": {
            "needs_background": "light"
          }
        },
        {
          "output_type": "display_data",
          "data": {
            "image/png": "[encoded data removed]",
            "text/plain": [
              "<Figure size 720x432 with 1 Axes>"
            ]
          },
          "metadata": {
            "needs_background": "light"
          }
        }
      ]
    },
    {
      "cell_type": "markdown",
      "source": [
        "##**Observation:**\n",
        "\n",
        "* The email type 1 which may be considered as promotional emails are sent more than email type 2 and hence are read and acknowledged more than the other type otherwise the proportion of ignored, read, acknowledged emails are kind of same in both email types.\n",
        "\n",
        "* Email source type shows kind of a similar pattern for both the categories.\n",
        "\n",
        "* In the customer location feature we can find that irrespective of the location, the percentage ratio of emails being ignored, read and acknowledge are kind of similar. It does not exclusively influence our target variable. It would be better to not consider location as factor in people ignoring, reading or acknowledging our emails. Other factors should be responsible in why people are ignoring the emails not location.\n",
        "\n",
        "* In the Email Campaign Type feature, it seems like in campaign type 1 very few emails were sent but has a very high likelihood of getting read. Most emails were sent under email campaign type 2 and most ignored. Seems like campaign 3 was a success as even when less number of emails were sent under campaign 3, more emails were read and acknowledged.\n",
        "\n",
        "* If we consider 1 annd 3 as morning and night category in time email sent feature, it is obvious to think 2 as middle of the day and as expected there were more emails sent under 2nd category than either of the others, sending emails in the middle of the day could lead to reading and opening the email as people are generally working at that time and they frequently checkup their emails, but it cannot be considered as the major factor in leading to acknowledged emails.\n"
      ],
      "metadata": {
        "id": "N5nkNAMp5u0x"
      }
    },
    {
      "cell_type": "markdown",
      "source": [
        "## As we can see irrespective of location the ratio of **Email_Status** is same throughout .So we can drop the location column"
      ],
      "metadata": {
        "id": "YpK2tiW16KFc"
      }
    },
    {
      "cell_type": "code",
      "source": [
        "#dropping Customer_Location column\n",
        "email_df.drop('Customer_Location',inplace=True,axis=1)\n",
        "print('Shape of data after dropping ',email_df.shape)"
      ],
      "metadata": {
        "colab": {
          "base_uri": "https://localhost:8080/"
        },
        "id": "9sBDw5y86ZFN",
        "outputId": "595005f1-e3f5-4456-81b4-db4fae7e1a10"
      },
      "execution_count": 116,
      "outputs": [
        {
          "output_type": "stream",
          "name": "stdout",
          "text": [
            "Shape of data after dropping  (68353, 11)\n"
          ]
        }
      ]
    }
  ]
}